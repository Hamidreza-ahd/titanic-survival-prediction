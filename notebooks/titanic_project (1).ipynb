{
 "cells": [
  {
   "cell_type": "markdown",
   "id": "f3438ebe-9a47-4c6b-b8d6-14497bf115c2",
   "metadata": {},
   "source": [
    "# Titanic Survival Prediction\n",
    "\n",
    "This project aims to build a machine learning model that predicts which passengers survived the Titanic disaster, using data provided by Kaggle.\n"
   ]
  },
  {
   "cell_type": "markdown",
   "id": "7ef69b62-c142-41d5-865a-e2cc8ac0781e",
   "metadata": {},
   "source": [
    "## 1.Project Goals\n",
    "\n",
    "- Accurately predict whether a passenger survived the Titanic disaster  \n",
    "- Demonstrate a complete ML workflow: data cleaning, feature engineering, scaling, and modeling  \n",
    "- Optimize model performance via hyperparameter tuning  \n",
    "- Provide a clear, reproducible notebook documenting each step  \n"
   ]
  },
  {
   "cell_type": "markdown",
   "id": "5d718bab-44dc-415c-a946-4e19d7597e07",
   "metadata": {},
   "source": [
    "## 2.Dataset Description\n",
    "\n",
    "- **Source**: Kaggle “Titanic: Machine Learning from Disaster” competition  \n",
    "- **Files**:  \n",
    "  - `train.csv`: 891 rows, includes both features and target (`Survived`)  \n",
    "  - `test.csv`: 418 rows, includes features only (to be used for final prediction)  \n",
    "\n",
    "- **Key Columns**:  \n",
    "  - `PassengerId` – unique identifier  \n",
    "  - `Pclass` – ticket class (1 = 1st, 2 = 2nd, 3 = 3rd)  \n",
    "  - `Name`, `Sex`, `Age` – demographic details  \n",
    "  - `SibSp` – number of siblings/spouses aboard  \n",
    "  - `Parch` – number of parents/children aboard  \n",
    "  - `Ticket` – ticket number  \n",
    "  - `Fare` – passenger fare  \n",
    "  - `Cabin` – cabin number  \n",
    "  - `Embarked` – port of embarkation (C = Cherbourg, Q = Queenstown, S = Southampton)  \n",
    "  - `Survived` – target variable (0 = no, 1 = yes; present only in `train.csv`)\n",
    "\n",
    "- **Missing Data**:  \n",
    "  - `Age` and `Cabin` contain missing values  \n",
    "  - A small number of missing entries in `Embarked`\n"
   ]
  },
  {
   "cell_type": "markdown",
   "id": "2ab7793a-29ce-4bd8-9d5c-efecfb0dc2da",
   "metadata": {},
   "source": [
    "## 3.Environment & Library Imports\n",
    "\n",
    "This notebook was developed and tested with Python 3.13 in a virtual environment. Key libraries include:\n",
    "\n",
    "- **pandas**: for data loading, manipulation, and analysis  \n",
    "- **NumPy**: for numerical operations and array handling  \n",
    "- **scikit‑learn**: for preprocessing, model training, hyperparameter tuning, and evaluation  \n",
    "  - `MinMaxScaler` for feature scaling  \n",
    "  - `train_test_split` for internal validation split  \n",
    "  - `LogisticRegression` (or other classifiers) for modeling  \n",
    "  - `GridSearchCV` for hyperparameter optimization  \n",
    "  - `accuracy_score`, `confusion_matrix` for performance metrics  \n",
    "- **matplotlib** (optional): for plotting distributions, learning curves, etc."
   ]
  },
  {
   "cell_type": "code",
   "execution_count": 1,
   "id": "323fb532-2a69-4ab5-8956-6001a2f64b5b",
   "metadata": {},
   "outputs": [],
   "source": [
    "import pandas as pd\n",
    "import numpy as np\n",
    "import matplotlib.pyplot as plt\n",
    "import seaborn as sns\n",
    "%matplotlib inline\n",
    "from sklearn.model_selection import train_test_split\n",
    "from sklearn.linear_model import LogisticRegression\n",
    "from sklearn.preprocessing import MinMaxScaler\n",
    "from sklearn.model_selection import GridSearchCV\n",
    "from sklearn.metrics import accuracy_score\n",
    "from sklearn.metrics import classification_report, confusion_matrix\n",
    "from sklearn.tree import DecisionTreeClassifier\n",
    "from sklearn.ensemble import RandomForestClassifier\n",
    "from sklearn.neighbors import KNeighborsClassifier"
   ]
  },
  {
   "cell_type": "markdown",
   "id": "5592b9f9-0a7b-4652-a5bc-8791ce176604",
   "metadata": {},
   "source": [
    "## 4.Data Loading & Initial Exploration\n",
    "\n",
    "Load `train.csv` and `test.csv` into DataFrames and inspect their structure and missing values.\n"
   ]
  },
  {
   "cell_type": "code",
   "execution_count": 2,
   "id": "3cadebb7-eb48-4819-87cb-ab0505d489b1",
   "metadata": {},
   "outputs": [],
   "source": [
    "train = pd.read_csv('../data/train.csv')\n",
    "test  = pd.read_csv('../data/test.csv')"
   ]
  },
  {
   "cell_type": "code",
   "execution_count": 3,
   "id": "6a7f42d4-0261-4f6d-80be-cb1bede47b49",
   "metadata": {},
   "outputs": [
    {
     "name": "stdout",
     "output_type": "stream",
     "text": [
      "<class 'pandas.core.frame.DataFrame'>\n",
      "RangeIndex: 891 entries, 0 to 890\n",
      "Data columns (total 12 columns):\n",
      " #   Column       Non-Null Count  Dtype  \n",
      "---  ------       --------------  -----  \n",
      " 0   PassengerId  891 non-null    int64  \n",
      " 1   Survived     891 non-null    int64  \n",
      " 2   Pclass       891 non-null    int64  \n",
      " 3   Name         891 non-null    object \n",
      " 4   Sex          891 non-null    object \n",
      " 5   Age          714 non-null    float64\n",
      " 6   SibSp        891 non-null    int64  \n",
      " 7   Parch        891 non-null    int64  \n",
      " 8   Ticket       891 non-null    object \n",
      " 9   Fare         891 non-null    float64\n",
      " 10  Cabin        204 non-null    object \n",
      " 11  Embarked     889 non-null    object \n",
      "dtypes: float64(2), int64(5), object(5)\n",
      "memory usage: 83.7+ KB\n"
     ]
    }
   ],
   "source": [
    "train.info()"
   ]
  },
  {
   "cell_type": "code",
   "execution_count": 4,
   "id": "73553abb-d599-4883-87e4-4d02997641b0",
   "metadata": {},
   "outputs": [
    {
     "data": {
      "text/html": [
       "<div>\n",
       "<style scoped>\n",
       "    .dataframe tbody tr th:only-of-type {\n",
       "        vertical-align: middle;\n",
       "    }\n",
       "\n",
       "    .dataframe tbody tr th {\n",
       "        vertical-align: top;\n",
       "    }\n",
       "\n",
       "    .dataframe thead th {\n",
       "        text-align: right;\n",
       "    }\n",
       "</style>\n",
       "<table border=\"1\" class=\"dataframe\">\n",
       "  <thead>\n",
       "    <tr style=\"text-align: right;\">\n",
       "      <th></th>\n",
       "      <th>PassengerId</th>\n",
       "      <th>Survived</th>\n",
       "      <th>Pclass</th>\n",
       "      <th>Age</th>\n",
       "      <th>SibSp</th>\n",
       "      <th>Parch</th>\n",
       "      <th>Fare</th>\n",
       "    </tr>\n",
       "  </thead>\n",
       "  <tbody>\n",
       "    <tr>\n",
       "      <th>count</th>\n",
       "      <td>891.000000</td>\n",
       "      <td>891.000000</td>\n",
       "      <td>891.000000</td>\n",
       "      <td>714.000000</td>\n",
       "      <td>891.000000</td>\n",
       "      <td>891.000000</td>\n",
       "      <td>891.000000</td>\n",
       "    </tr>\n",
       "    <tr>\n",
       "      <th>mean</th>\n",
       "      <td>446.000000</td>\n",
       "      <td>0.383838</td>\n",
       "      <td>2.308642</td>\n",
       "      <td>29.699118</td>\n",
       "      <td>0.523008</td>\n",
       "      <td>0.381594</td>\n",
       "      <td>32.204208</td>\n",
       "    </tr>\n",
       "    <tr>\n",
       "      <th>std</th>\n",
       "      <td>257.353842</td>\n",
       "      <td>0.486592</td>\n",
       "      <td>0.836071</td>\n",
       "      <td>14.526497</td>\n",
       "      <td>1.102743</td>\n",
       "      <td>0.806057</td>\n",
       "      <td>49.693429</td>\n",
       "    </tr>\n",
       "    <tr>\n",
       "      <th>min</th>\n",
       "      <td>1.000000</td>\n",
       "      <td>0.000000</td>\n",
       "      <td>1.000000</td>\n",
       "      <td>0.420000</td>\n",
       "      <td>0.000000</td>\n",
       "      <td>0.000000</td>\n",
       "      <td>0.000000</td>\n",
       "    </tr>\n",
       "    <tr>\n",
       "      <th>25%</th>\n",
       "      <td>223.500000</td>\n",
       "      <td>0.000000</td>\n",
       "      <td>2.000000</td>\n",
       "      <td>20.125000</td>\n",
       "      <td>0.000000</td>\n",
       "      <td>0.000000</td>\n",
       "      <td>7.910400</td>\n",
       "    </tr>\n",
       "    <tr>\n",
       "      <th>50%</th>\n",
       "      <td>446.000000</td>\n",
       "      <td>0.000000</td>\n",
       "      <td>3.000000</td>\n",
       "      <td>28.000000</td>\n",
       "      <td>0.000000</td>\n",
       "      <td>0.000000</td>\n",
       "      <td>14.454200</td>\n",
       "    </tr>\n",
       "    <tr>\n",
       "      <th>75%</th>\n",
       "      <td>668.500000</td>\n",
       "      <td>1.000000</td>\n",
       "      <td>3.000000</td>\n",
       "      <td>38.000000</td>\n",
       "      <td>1.000000</td>\n",
       "      <td>0.000000</td>\n",
       "      <td>31.000000</td>\n",
       "    </tr>\n",
       "    <tr>\n",
       "      <th>max</th>\n",
       "      <td>891.000000</td>\n",
       "      <td>1.000000</td>\n",
       "      <td>3.000000</td>\n",
       "      <td>80.000000</td>\n",
       "      <td>8.000000</td>\n",
       "      <td>6.000000</td>\n",
       "      <td>512.329200</td>\n",
       "    </tr>\n",
       "  </tbody>\n",
       "</table>\n",
       "</div>"
      ],
      "text/plain": [
       "       PassengerId    Survived      Pclass         Age       SibSp  \\\n",
       "count   891.000000  891.000000  891.000000  714.000000  891.000000   \n",
       "mean    446.000000    0.383838    2.308642   29.699118    0.523008   \n",
       "std     257.353842    0.486592    0.836071   14.526497    1.102743   \n",
       "min       1.000000    0.000000    1.000000    0.420000    0.000000   \n",
       "25%     223.500000    0.000000    2.000000   20.125000    0.000000   \n",
       "50%     446.000000    0.000000    3.000000   28.000000    0.000000   \n",
       "75%     668.500000    1.000000    3.000000   38.000000    1.000000   \n",
       "max     891.000000    1.000000    3.000000   80.000000    8.000000   \n",
       "\n",
       "            Parch        Fare  \n",
       "count  891.000000  891.000000  \n",
       "mean     0.381594   32.204208  \n",
       "std      0.806057   49.693429  \n",
       "min      0.000000    0.000000  \n",
       "25%      0.000000    7.910400  \n",
       "50%      0.000000   14.454200  \n",
       "75%      0.000000   31.000000  \n",
       "max      6.000000  512.329200  "
      ]
     },
     "execution_count": 4,
     "metadata": {},
     "output_type": "execute_result"
    }
   ],
   "source": [
    "train.describe()"
   ]
  },
  {
   "cell_type": "code",
   "execution_count": 5,
   "id": "958e5cc9-bb87-4e79-8317-e2691575ed4f",
   "metadata": {},
   "outputs": [
    {
     "data": {
      "text/html": [
       "<div>\n",
       "<style scoped>\n",
       "    .dataframe tbody tr th:only-of-type {\n",
       "        vertical-align: middle;\n",
       "    }\n",
       "\n",
       "    .dataframe tbody tr th {\n",
       "        vertical-align: top;\n",
       "    }\n",
       "\n",
       "    .dataframe thead th {\n",
       "        text-align: right;\n",
       "    }\n",
       "</style>\n",
       "<table border=\"1\" class=\"dataframe\">\n",
       "  <thead>\n",
       "    <tr style=\"text-align: right;\">\n",
       "      <th></th>\n",
       "      <th>PassengerId</th>\n",
       "      <th>Survived</th>\n",
       "      <th>Pclass</th>\n",
       "      <th>Name</th>\n",
       "      <th>Sex</th>\n",
       "      <th>Age</th>\n",
       "      <th>SibSp</th>\n",
       "      <th>Parch</th>\n",
       "      <th>Ticket</th>\n",
       "      <th>Fare</th>\n",
       "      <th>Cabin</th>\n",
       "      <th>Embarked</th>\n",
       "    </tr>\n",
       "  </thead>\n",
       "  <tbody>\n",
       "    <tr>\n",
       "      <th>0</th>\n",
       "      <td>1</td>\n",
       "      <td>0</td>\n",
       "      <td>3</td>\n",
       "      <td>Braund, Mr. Owen Harris</td>\n",
       "      <td>male</td>\n",
       "      <td>22.0</td>\n",
       "      <td>1</td>\n",
       "      <td>0</td>\n",
       "      <td>A/5 21171</td>\n",
       "      <td>7.2500</td>\n",
       "      <td>NaN</td>\n",
       "      <td>S</td>\n",
       "    </tr>\n",
       "    <tr>\n",
       "      <th>1</th>\n",
       "      <td>2</td>\n",
       "      <td>1</td>\n",
       "      <td>1</td>\n",
       "      <td>Cumings, Mrs. John Bradley (Florence Briggs Th...</td>\n",
       "      <td>female</td>\n",
       "      <td>38.0</td>\n",
       "      <td>1</td>\n",
       "      <td>0</td>\n",
       "      <td>PC 17599</td>\n",
       "      <td>71.2833</td>\n",
       "      <td>C85</td>\n",
       "      <td>C</td>\n",
       "    </tr>\n",
       "    <tr>\n",
       "      <th>2</th>\n",
       "      <td>3</td>\n",
       "      <td>1</td>\n",
       "      <td>3</td>\n",
       "      <td>Heikkinen, Miss. Laina</td>\n",
       "      <td>female</td>\n",
       "      <td>26.0</td>\n",
       "      <td>0</td>\n",
       "      <td>0</td>\n",
       "      <td>STON/O2. 3101282</td>\n",
       "      <td>7.9250</td>\n",
       "      <td>NaN</td>\n",
       "      <td>S</td>\n",
       "    </tr>\n",
       "    <tr>\n",
       "      <th>3</th>\n",
       "      <td>4</td>\n",
       "      <td>1</td>\n",
       "      <td>1</td>\n",
       "      <td>Futrelle, Mrs. Jacques Heath (Lily May Peel)</td>\n",
       "      <td>female</td>\n",
       "      <td>35.0</td>\n",
       "      <td>1</td>\n",
       "      <td>0</td>\n",
       "      <td>113803</td>\n",
       "      <td>53.1000</td>\n",
       "      <td>C123</td>\n",
       "      <td>S</td>\n",
       "    </tr>\n",
       "    <tr>\n",
       "      <th>4</th>\n",
       "      <td>5</td>\n",
       "      <td>0</td>\n",
       "      <td>3</td>\n",
       "      <td>Allen, Mr. William Henry</td>\n",
       "      <td>male</td>\n",
       "      <td>35.0</td>\n",
       "      <td>0</td>\n",
       "      <td>0</td>\n",
       "      <td>373450</td>\n",
       "      <td>8.0500</td>\n",
       "      <td>NaN</td>\n",
       "      <td>S</td>\n",
       "    </tr>\n",
       "  </tbody>\n",
       "</table>\n",
       "</div>"
      ],
      "text/plain": [
       "   PassengerId  Survived  Pclass  \\\n",
       "0            1         0       3   \n",
       "1            2         1       1   \n",
       "2            3         1       3   \n",
       "3            4         1       1   \n",
       "4            5         0       3   \n",
       "\n",
       "                                                Name     Sex   Age  SibSp  \\\n",
       "0                            Braund, Mr. Owen Harris    male  22.0      1   \n",
       "1  Cumings, Mrs. John Bradley (Florence Briggs Th...  female  38.0      1   \n",
       "2                             Heikkinen, Miss. Laina  female  26.0      0   \n",
       "3       Futrelle, Mrs. Jacques Heath (Lily May Peel)  female  35.0      1   \n",
       "4                           Allen, Mr. William Henry    male  35.0      0   \n",
       "\n",
       "   Parch            Ticket     Fare Cabin Embarked  \n",
       "0      0         A/5 21171   7.2500   NaN        S  \n",
       "1      0          PC 17599  71.2833   C85        C  \n",
       "2      0  STON/O2. 3101282   7.9250   NaN        S  \n",
       "3      0            113803  53.1000  C123        S  \n",
       "4      0            373450   8.0500   NaN        S  "
      ]
     },
     "execution_count": 5,
     "metadata": {},
     "output_type": "execute_result"
    }
   ],
   "source": [
    "train.head()"
   ]
  },
  {
   "cell_type": "code",
   "execution_count": 6,
   "id": "caf5e98d-0182-4a75-a9ad-34a7b0d886f1",
   "metadata": {},
   "outputs": [
    {
     "data": {
      "text/plain": [
       "<Axes: >"
      ]
     },
     "execution_count": 6,
     "metadata": {},
     "output_type": "execute_result"
    },
    {
     "data": {
      "image/png": "[encoded data removed]",
      "text/plain": [
       "<Figure size 640x480 with 2 Axes>"
      ]
     },
     "metadata": {},
     "output_type": "display_data"
    }
   ],
   "source": [
    "sns.heatmap(train.isna())"
   ]
  },
  {
   "cell_type": "code",
   "execution_count": 7,
   "id": "1c749852-f415-429b-b071-0b1ac18d3790",
   "metadata": {},
   "outputs": [
    {
     "data": {
      "text/plain": [
       "PassengerId      0\n",
       "Survived         0\n",
       "Pclass           0\n",
       "Name             0\n",
       "Sex              0\n",
       "Age            177\n",
       "SibSp            0\n",
       "Parch            0\n",
       "Ticket           0\n",
       "Fare             0\n",
       "Cabin          687\n",
       "Embarked         2\n",
       "dtype: int64"
      ]
     },
     "execution_count": 7,
     "metadata": {},
     "output_type": "execute_result"
    }
   ],
   "source": [
    "train.isna().sum()"
   ]
  },
  {
   "cell_type": "markdown",
   "id": "5e1fd16f-f0fb-4c11-93c8-d781a16e5844",
   "metadata": {},
   "source": [
    "## 5. Exploratory Data Analysis (EDA)\n",
    "- Check for missing values and duplicates  \n",
    "- View summary statistics  \n",
    "- Visualize feature distributions and relationships with quality\n"
   ]
  },
  {
   "cell_type": "code",
   "execution_count": 8,
   "id": "562447af-84c8-427e-9c2e-d3367262119a",
   "metadata": {},
   "outputs": [
    {
     "data": {
      "text/plain": [
       "Text(0.5, 1.0, 'Survival rate based on Sex')"
      ]
     },
     "execution_count": 8,
     "metadata": {},
     "output_type": "execute_result"
    },
    {
     "data": {
      "image/png": "[encoded data removed]",
      "text/plain": [
       "<Figure size 640x480 with 1 Axes>"
      ]
     },
     "metadata": {},
     "output_type": "display_data"
    }
   ],
   "source": [
    "sns.barplot(data=train, y='Survived', x='Sex')\n",
    "plt.title('Survival rate based on Sex')"
   ]
  },
  {
   "cell_type": "code",
   "execution_count": 9,
   "id": "5988ad52-4cd9-4402-9b50-e1ab990c72db",
   "metadata": {},
   "outputs": [
    {
     "data": {
      "text/plain": [
       "Text(0.5, 1.0, 'Survival rate based on Passenger class')"
      ]
     },
     "execution_count": 9,
     "metadata": {},
     "output_type": "execute_result"
    },
    {
     "data": {
      "image/png": "[encoded data removed]",
      "text/plain": [
       "<Figure size 640x480 with 1 Axes>"
      ]
     },
     "metadata": {},
     "output_type": "display_data"
    }
   ],
   "source": [
    "sns.barplot(data=train, y='Survived', x='Pclass')\n",
    "plt.title('Survival rate based on Passenger class')"
   ]
  },
  {
   "cell_type": "code",
   "execution_count": 10,
   "id": "93016dca-b951-44b6-9510-93522e97fa3c",
   "metadata": {},
   "outputs": [
    {
     "data": {
      "text/plain": [
       "Text(0.5, 1.0, 'Survival rate based on Age group')"
      ]
     },
     "execution_count": 10,
     "metadata": {},
     "output_type": "execute_result"
    },
    {
     "data": {
      "image/png": "[encoded data removed]",
      "text/plain": [
       "<Figure size 640x480 with 1 Axes>"
      ]
     },
     "metadata": {},
     "output_type": "display_data"
    }
   ],
   "source": [
    "train['AgeGroup'] = pd.cut(train['Age'], bins=[0,12,18,35,60,80], labels=['Child', 'Teen', 'Young Adult', 'Adult', 'Senior'])\n",
    "sns.barplot(train, x='AgeGroup', y='Survived')\n",
    "plt.title('Survival rate based on Age group')"
   ]
  },
  {
   "cell_type": "code",
   "execution_count": 11,
   "id": "c4e95c9c-c6a0-401c-8212-51f14fa6e736",
   "metadata": {},
   "outputs": [
    {
     "data": {
      "text/plain": [
       "Text(0.5, 1.0, 'Survival rate based on Siblings and Spouses')"
      ]
     },
     "execution_count": 11,
     "metadata": {},
     "output_type": "execute_result"
    },
    {
     "data": {
      "image/png": "[encoded data removed]",
      "text/plain": [
       "<Figure size 640x480 with 1 Axes>"
      ]
     },
     "metadata": {},
     "output_type": "display_data"
    }
   ],
   "source": [
    "sns.barplot(data=train, y='Survived', x='SibSp')\n",
    "plt.title('Survival rate based on Siblings and Spouses')"
   ]
  },
  {
   "cell_type": "code",
   "execution_count": 12,
   "id": "e9898445-9375-4bd3-a0a4-268474924286",
   "metadata": {},
   "outputs": [
    {
     "data": {
      "text/plain": [
       "Text(0.5, 1.0, 'Survival rate based on Parent child relationship')"
      ]
     },
     "execution_count": 12,
     "metadata": {},
     "output_type": "execute_result"
    },
    {
     "data": {
      "image/png": "[encoded data removed]",
      "text/plain": [
       "<Figure size 640x480 with 1 Axes>"
      ]
     },
     "metadata": {},
     "output_type": "display_data"
    }
   ],
   "source": [
    "sns.barplot(data=train, y='Survived', x='Parch')\n",
    "plt.title('Survival rate based on Parent child relationship')"
   ]
  },
  {
   "cell_type": "code",
   "execution_count": 13,
   "id": "90b64e31-b049-436b-a502-27cc72a30436",
   "metadata": {},
   "outputs": [
    {
     "data": {
      "text/plain": [
       "0.00      0.0000\n",
       "0.25      7.9104\n",
       "0.50     14.4542\n",
       "0.75     31.0000\n",
       "1.00    512.3292\n",
       "Name: Fare, dtype: float64"
      ]
     },
     "execution_count": 13,
     "metadata": {},
     "output_type": "execute_result"
    }
   ],
   "source": [
    "train['Fare'].quantile([0, 0.25, 0.5, 0.75, 1.0])"
   ]
  },
  {
   "cell_type": "code",
   "execution_count": 14,
   "id": "ee040c95-d1a9-491f-b81c-de287ed68035",
   "metadata": {},
   "outputs": [
    {
     "data": {
      "text/plain": [
       "Text(0.5, 1.0, 'Survival rate based on FareGroup')"
      ]
     },
     "execution_count": 14,
     "metadata": {},
     "output_type": "execute_result"
    },
    {
     "data": {
      "image/png": "[encoded data removed]",
      "text/plain": [
       "<Figure size 640x480 with 1 Axes>"
      ]
     },
     "metadata": {},
     "output_type": "display_data"
    }
   ],
   "source": [
    "train['FareGroup'] = pd.cut(train['Fare'], bins=[0,7.91,14.45,31,512], labels=['low', 'mid', 'high', 'very high'])\n",
    "sns.barplot(data=train, y='Survived', x='FareGroup')\n",
    "plt.title('Survival rate based on FareGroup')"
   ]
  },
  {
   "cell_type": "code",
   "execution_count": 15,
   "id": "0a78b06c-a448-4b5f-ba96-cd158f78ca78",
   "metadata": {},
   "outputs": [
    {
     "data": {
      "text/plain": [
       "Text(0.5, 1.0, 'Survival rate based on Embarked location')"
      ]
     },
     "execution_count": 15,
     "metadata": {},
     "output_type": "execute_result"
    },
    {
     "data": {
      "image/png": "[encoded data removed]",
      "text/plain": [
       "<Figure size 640x480 with 1 Axes>"
      ]
     },
     "metadata": {},
     "output_type": "display_data"
    }
   ],
   "source": [
    "sns.barplot(data=train, y='Survived', x='Embarked')\n",
    "plt.title('Survival rate based on Embarked location')"
   ]
  },
  {
   "cell_type": "markdown",
   "id": "61f3e0a7-33f9-4f3b-8c94-1bb60ecff59d",
   "metadata": {},
   "source": [
    "## 6.Data Cleaning: Dropping Duplicates & Imputing Missing Values\n",
    "\n",
    "1. **Drop Duplicate Rows**  \n",
    "   - Check for any exact duplicate records (e.g. identical PassengerId or entire row).  \n",
    "   - Remove duplicates to ensure each passenger appears only once.\n",
    "\n",
    "2. **Impute Missing `Age`**  \n",
    "   - Compute the median age on the training set (less sensitive to outliers than the mean).  \n",
    "   - Fill all missing `Age` values with this median so that the age distribution remains realistic.\n",
    "\n",
    "3. **Impute Missing `Embarked`**  \n",
    "   - Use `train['Embarked'].value_counts()` to find the most common embarkation port (mode).  \n",
    "   - For example, if “S” (Southampton) appears most frequently, fill all missing `Embarked` entries with “S”.\n",
    "\n",
    "4. **Handle Missing `Cabin`**  \n",
    "   - Option A: Create a new binary feature `HasCabin` (1 if `Cabin` is present, 0 if missing) to capture whether cabin information exists.  \n",
    "   - Option B: Drop the `Cabin` column entirely if its high missing rate outweighs its predictive value.\n",
    "\n",
    "5. **Verify No Remaining Nulls**  \n",
    "   - After imputation, confirm that there are no missing values left in the columns you intend to use for modeling.\n"
   ]
  },
  {
   "cell_type": "code",
   "execution_count": 16,
   "id": "84807415-5fe2-4a86-958a-bfafe52d6cdd",
   "metadata": {},
   "outputs": [],
   "source": [
    "train = train.drop_duplicates()\n",
    "test = test.drop_duplicates()"
   ]
  },
  {
   "cell_type": "code",
   "execution_count": 17,
   "id": "2fb51e1e-d6ad-47ad-a4d0-b92685cc09eb",
   "metadata": {},
   "outputs": [
    {
     "name": "stderr",
     "output_type": "stream",
     "text": [
      "C:\\Users\\NoteBook\\AppData\\Local\\Temp\\ipykernel_15568\\832606015.py:1: FutureWarning: A value is trying to be set on a copy of a DataFrame or Series through chained assignment using an inplace method.\n",
      "The behavior will change in pandas 3.0. This inplace method will never work because the intermediate object on which we are setting values always behaves as a copy.\n",
      "\n",
      "For example, when doing 'df[col].method(value, inplace=True)', try using 'df.method({col: value}, inplace=True)' or df[col] = df[col].method(value) instead, to perform the operation inplace on the original object.\n",
      "\n",
      "\n",
      "  train['Age'].fillna(train['Age'].mean(), inplace=True)\n",
      "C:\\Users\\NoteBook\\AppData\\Local\\Temp\\ipykernel_15568\\832606015.py:2: FutureWarning: A value is trying to be set on a copy of a DataFrame or Series through chained assignment using an inplace method.\n",
      "The behavior will change in pandas 3.0. This inplace method will never work because the intermediate object on which we are setting values always behaves as a copy.\n",
      "\n",
      "For example, when doing 'df[col].method(value, inplace=True)', try using 'df.method({col: value}, inplace=True)' or df[col] = df[col].method(value) instead, to perform the operation inplace on the original object.\n",
      "\n",
      "\n",
      "  test['Age'].fillna(test['Age'].mean(), inplace=True)\n"
     ]
    }
   ],
   "source": [
    "train['Age'].fillna(train['Age'].mean(), inplace=True)\n",
    "test['Age'].fillna(test['Age'].mean(), inplace=True)"
   ]
  },
  {
   "cell_type": "code",
   "execution_count": 18,
   "id": "daa86714-8d67-4062-bbb5-6adcc84bfda1",
   "metadata": {},
   "outputs": [
    {
     "data": {
      "text/plain": [
       "Embarked\n",
       "S    644\n",
       "C    168\n",
       "Q     77\n",
       "Name: count, dtype: int64"
      ]
     },
     "execution_count": 18,
     "metadata": {},
     "output_type": "execute_result"
    }
   ],
   "source": [
    "train['Embarked'].value_counts()"
   ]
  },
  {
   "cell_type": "code",
   "execution_count": 19,
   "id": "1204311d-0989-443a-b75c-499be787329f",
   "metadata": {},
   "outputs": [
    {
     "name": "stderr",
     "output_type": "stream",
     "text": [
      "C:\\Users\\NoteBook\\AppData\\Local\\Temp\\ipykernel_15568\\2166674729.py:1: FutureWarning: A value is trying to be set on a copy of a DataFrame or Series through chained assignment using an inplace method.\n",
      "The behavior will change in pandas 3.0. This inplace method will never work because the intermediate object on which we are setting values always behaves as a copy.\n",
      "\n",
      "For example, when doing 'df[col].method(value, inplace=True)', try using 'df.method({col: value}, inplace=True)' or df[col] = df[col].method(value) instead, to perform the operation inplace on the original object.\n",
      "\n",
      "\n",
      "  train['Embarked'].fillna(train['Embarked'].mode()[0], inplace=True)\n",
      "C:\\Users\\NoteBook\\AppData\\Local\\Temp\\ipykernel_15568\\2166674729.py:2: FutureWarning: A value is trying to be set on a copy of a DataFrame or Series through chained assignment using an inplace method.\n",
      "The behavior will change in pandas 3.0. This inplace method will never work because the intermediate object on which we are setting values always behaves as a copy.\n",
      "\n",
      "For example, when doing 'df[col].method(value, inplace=True)', try using 'df.method({col: value}, inplace=True)' or df[col] = df[col].method(value) instead, to perform the operation inplace on the original object.\n",
      "\n",
      "\n",
      "  test['Embarked'].fillna(test['Embarked'].mode()[0], inplace=True)\n"
     ]
    }
   ],
   "source": [
    "train['Embarked'].fillna(train['Embarked'].mode()[0], inplace=True)\n",
    "test['Embarked'].fillna(test['Embarked'].mode()[0], inplace=True)"
   ]
  },
  {
   "cell_type": "code",
   "execution_count": 20,
   "id": "434d6ee9-41d6-448d-8f90-2d8bfe6d818a",
   "metadata": {},
   "outputs": [],
   "source": [
    "train = pd.get_dummies(data=train, columns=['Sex'], dtype=int, drop_first=True)\n",
    "test = pd.get_dummies(data=test, columns=['Sex'], dtype=int, drop_first=True)"
   ]
  },
  {
   "cell_type": "code",
   "execution_count": 21,
   "id": "f8dfc5bf-edf7-4286-a8ec-ee6216fc32bc",
   "metadata": {},
   "outputs": [],
   "source": [
    "train = pd.get_dummies(data=train, columns=['Embarked'], dtype=int, drop_first=True)\n",
    "test = pd.get_dummies(data=test, columns=['Embarked'], dtype=int, drop_first=True)"
   ]
  },
  {
   "cell_type": "code",
   "execution_count": 22,
   "id": "b44d6059-8ed5-4cbf-bf0b-61e9d203b75c",
   "metadata": {},
   "outputs": [],
   "source": [
    "train = train.drop(['PassengerId', 'Name', 'Ticket', 'Cabin', 'AgeGroup', 'FareGroup'], axis=1)\n",
    "test = test.drop(['PassengerId', 'Name', 'Ticket', 'Cabin'], axis=1)"
   ]
  },
  {
   "cell_type": "code",
   "execution_count": 23,
   "id": "50439e77-25bd-47e0-9a44-fb4f9606dd37",
   "metadata": {},
   "outputs": [
    {
     "data": {
      "text/html": [
       "<div>\n",
       "<style scoped>\n",
       "    .dataframe tbody tr th:only-of-type {\n",
       "        vertical-align: middle;\n",
       "    }\n",
       "\n",
       "    .dataframe tbody tr th {\n",
       "        vertical-align: top;\n",
       "    }\n",
       "\n",
       "    .dataframe thead th {\n",
       "        text-align: right;\n",
       "    }\n",
       "</style>\n",
       "<table border=\"1\" class=\"dataframe\">\n",
       "  <thead>\n",
       "    <tr style=\"text-align: right;\">\n",
       "      <th></th>\n",
       "      <th>Survived</th>\n",
       "      <th>Pclass</th>\n",
       "      <th>Age</th>\n",
       "      <th>SibSp</th>\n",
       "      <th>Parch</th>\n",
       "      <th>Fare</th>\n",
       "      <th>Sex_male</th>\n",
       "      <th>Embarked_Q</th>\n",
       "      <th>Embarked_S</th>\n",
       "    </tr>\n",
       "  </thead>\n",
       "  <tbody>\n",
       "    <tr>\n",
       "      <th>0</th>\n",
       "      <td>0</td>\n",
       "      <td>3</td>\n",
       "      <td>22.0</td>\n",
       "      <td>1</td>\n",
       "      <td>0</td>\n",
       "      <td>7.2500</td>\n",
       "      <td>1</td>\n",
       "      <td>0</td>\n",
       "      <td>1</td>\n",
       "    </tr>\n",
       "    <tr>\n",
       "      <th>1</th>\n",
       "      <td>1</td>\n",
       "      <td>1</td>\n",
       "      <td>38.0</td>\n",
       "      <td>1</td>\n",
       "      <td>0</td>\n",
       "      <td>71.2833</td>\n",
       "      <td>0</td>\n",
       "      <td>0</td>\n",
       "      <td>0</td>\n",
       "    </tr>\n",
       "    <tr>\n",
       "      <th>2</th>\n",
       "      <td>1</td>\n",
       "      <td>3</td>\n",
       "      <td>26.0</td>\n",
       "      <td>0</td>\n",
       "      <td>0</td>\n",
       "      <td>7.9250</td>\n",
       "      <td>0</td>\n",
       "      <td>0</td>\n",
       "      <td>1</td>\n",
       "    </tr>\n",
       "    <tr>\n",
       "      <th>3</th>\n",
       "      <td>1</td>\n",
       "      <td>1</td>\n",
       "      <td>35.0</td>\n",
       "      <td>1</td>\n",
       "      <td>0</td>\n",
       "      <td>53.1000</td>\n",
       "      <td>0</td>\n",
       "      <td>0</td>\n",
       "      <td>1</td>\n",
       "    </tr>\n",
       "    <tr>\n",
       "      <th>4</th>\n",
       "      <td>0</td>\n",
       "      <td>3</td>\n",
       "      <td>35.0</td>\n",
       "      <td>0</td>\n",
       "      <td>0</td>\n",
       "      <td>8.0500</td>\n",
       "      <td>1</td>\n",
       "      <td>0</td>\n",
       "      <td>1</td>\n",
       "    </tr>\n",
       "  </tbody>\n",
       "</table>\n",
       "</div>"
      ],
      "text/plain": [
       "   Survived  Pclass   Age  SibSp  Parch     Fare  Sex_male  Embarked_Q  \\\n",
       "0         0       3  22.0      1      0   7.2500         1           0   \n",
       "1         1       1  38.0      1      0  71.2833         0           0   \n",
       "2         1       3  26.0      0      0   7.9250         0           0   \n",
       "3         1       1  35.0      1      0  53.1000         0           0   \n",
       "4         0       3  35.0      0      0   8.0500         1           0   \n",
       "\n",
       "   Embarked_S  \n",
       "0           1  \n",
       "1           0  \n",
       "2           1  \n",
       "3           1  \n",
       "4           1  "
      ]
     },
     "execution_count": 23,
     "metadata": {},
     "output_type": "execute_result"
    }
   ],
   "source": [
    "train.head()"
   ]
  },
  {
   "cell_type": "markdown",
   "id": "d0b85bc4-6aaf-420d-aaae-6377e8c4c80b",
   "metadata": {},
   "source": [
    "## 7.Prepare Features & Target\n",
    "\n",
    "Drop the target column from the training DataFrame to form the feature matrix `X`, and assign `Survived` to the target vector `y`"
   ]
  },
  {
   "cell_type": "code",
   "execution_count": 24,
   "id": "f9166094-4c02-4ad6-a8c9-4d1bcbe5ce29",
   "metadata": {},
   "outputs": [],
   "source": [
    "x = train.drop(['Survived'], axis=1)\n",
    "y = train['Survived']"
   ]
  },
  {
   "cell_type": "markdown",
   "id": "26fb5904-c733-41e8-b92a-7a5a83037057",
   "metadata": {},
   "source": [
    "## 8.Feature Scaling\n",
    "\n",
    "Fit a `MinMaxScaler` on the training set’s continuous features (`Age`, `SibSp`, `Parch`, `Fare`) to map them into the [0, 1] range, then apply the same scaler to the test set. This ensures all numeric inputs have comparable magnitudes while leaving dummy/categorical columns unchanged.\n"
   ]
  },
  {
   "cell_type": "code",
   "execution_count": 25,
   "id": "16daf9a2-720d-47b2-a9af-48ec5408ffec",
   "metadata": {},
   "outputs": [],
   "source": [
    "model_scores = []\n",
    "\n",
    "scaler = MinMaxScaler()\n",
    "\n",
    "scaling_features=['Age','SibSp','Fare','Parch']\n",
    "noscaling_features=['Pclass','Sex_male','Embarked_Q','Embarked_S']\n",
    "\n",
    "Xscaled = scaler.fit_transform(train[scaling_features])\n",
    "Xscaled_df = pd.DataFrame(Xscaled, columns=scaling_features)\n",
    "\n",
    "Xnotscaled_df = pd.DataFrame(train[noscaling_features],columns=noscaling_features)\n",
    "\n",
    "Xtrain = pd.concat([Xscaled_df, Xnotscaled_df], axis=1)\n",
    "Ytrain = train['Survived']\n",
    "\n",
    "Xscaled_test=scaler.transform(test[scaling_features])\n",
    "Xscaled_test_df=pd.DataFrame(Xscaled_test,columns=scaling_features)\n",
    "\n",
    "Xnotscaled_test_df=pd.DataFrame(test[noscaling_features],columns=noscaling_features)\n",
    "\n",
    "Xtest=pd.concat([Xscaled_test_df,Xnotscaled_test_df],axis=1)\n",
    "\n",
    "x_train, x_test, y_train, y_test = train_test_split(Xtrain, Ytrain, test_size=0.3, random_state=101)"
   ]
  },
  {
   "cell_type": "markdown",
   "id": "cfc387b2-868d-4ff7-bd83-af9520f2411e",
   "metadata": {},
   "source": [
    "## 9.Model Implementation\n",
    "\n",
    "From this point onward, we will implement and evaluate multiple machine learning models. For each model, we will:\n",
    "\n",
    "- Describe the algorithm and rationale for selection  \n",
    "- Perform hyperparameter tuning with cross-validation  \n",
    "- Report validation performance before moving to the next model  \n"
   ]
  },
  {
   "cell_type": "markdown",
   "id": "a3afcbad-f15a-4974-9989-99d051fd61e0",
   "metadata": {},
   "source": [
    "### Model 1: Logistic Regression\n",
    "\n",
    "Use Logistic Regression as a baseline binary classifier. It estimates the probability of survival with a linear decision boundary and includes built‑in regularization to prevent overfitting.\n",
    "\n",
    "- **Why**: Simple, interpretable, fast to train  \n",
    "- **Hyperparameters**:  \n",
    "  - `C` (inverse regularization strength): controls model complexity  \n",
    "- **Validation**: 5‑fold cross‑validation via `GridSearchCV` to select the best `C` value  \n"
   ]
  },
  {
   "cell_type": "code",
   "execution_count": 26,
   "id": "1fec1cd9-4d54-4aae-b19b-aa8cf5f2d233",
   "metadata": {},
   "outputs": [
    {
     "name": "stdout",
     "output_type": "stream",
     "text": [
      "{'C': 10}\n",
      "Training score: 0.8106580645161291\n",
      "Validation accuracy for Logisitc Regression model: 0.7947761194029851\n"
     ]
    }
   ],
   "source": [
    "model=LogisticRegression()\n",
    "param_grid={\n",
    "    'C':[1,5,10]\n",
    "}\n",
    "grid=GridSearchCV(model,param_grid,cv=5)\n",
    "grid.fit(x_train,y_train)\n",
    "print(grid.best_params_)\n",
    "print(\"Training score:\",grid.best_score_)\n",
    "\n",
    "y_pred = grid.predict(x_test)\n",
    "val_accuracy = accuracy_score(y_test, y_pred)\n",
    "print(\"Validation accuracy for Logisitc Regression model:\", val_accuracy)\n",
    "\n",
    "model_scores.append({\n",
    "    'model': 'Logistic Regression',\n",
    "    'Training Accuracy ': grid.best_score_,\n",
    "    'Validation Accuracy': val_accuracy\n",
    "})"
   ]
  },
  {
   "cell_type": "code",
   "execution_count": 27,
   "id": "b123e07d-f032-4872-b91a-bd7f5e3a62a3",
   "metadata": {},
   "outputs": [
    {
     "name": "stdout",
     "output_type": "stream",
     "text": [
      "              precision    recall  f1-score   support\n",
      "\n",
      "           0       0.79      0.88      0.83       154\n",
      "           1       0.81      0.68      0.74       114\n",
      "\n",
      "    accuracy                           0.79       268\n",
      "   macro avg       0.80      0.78      0.78       268\n",
      "weighted avg       0.80      0.79      0.79       268\n",
      "\n",
      "[[136  18]\n",
      " [ 37  77]]\n"
     ]
    }
   ],
   "source": [
    "print(classification_report(y_test, y_pred))\n",
    "print(confusion_matrix(y_test, y_pred))"
   ]
  },
  {
   "cell_type": "markdown",
   "id": "a67c6738-b99e-4198-8182-04090b1dffa9",
   "metadata": {},
   "source": [
    "### Model 2: Decision Tree\n",
    "\n",
    "A Decision Tree classifier builds a tree of decision rules by recursively splitting on feature values.\n",
    "\n",
    "- **Why**:  \n",
    "  - Captures non‑linear relationships and feature interactions  \n",
    "  - Easy to visualize and interpret  \n",
    "  - Handles both numeric and categorical inputs without scaling  \n",
    "\n",
    "- **Hyperparameters**:  \n",
    "  - `min_samples_split`: minimum number of samples required to split an internal node  \n",
    "  - `min_samples_leaf`: minimum number of samples required to be at a leaf node (helps prevent very small, overfitting leaves)  \n",
    "  - `max_depth`: maximum depth of the tree to control overfitting  \n",
    "  - `criterion`: split quality measure (`\"gini\"` or `\"entropy\"`)  \n",
    "\n",
    "- **Validation**:  \n",
    "  Use `GridSearchCV` with 5‑fold CV to find the best combination of these parameters  "
   ]
  },
  {
   "cell_type": "code",
   "execution_count": 28,
   "id": "914a40d9-4d50-4b2a-a5dd-e1d766a65509",
   "metadata": {},
   "outputs": [
    {
     "name": "stdout",
     "output_type": "stream",
     "text": [
      "{'criterion': 'gini', 'min_samples_leaf': 10, 'min_samples_split': 2}\n",
      "Training score: 0.812258064516129\n",
      "Validation accuracy for Logisitc Regression model: 0.7947761194029851\n"
     ]
    }
   ],
   "source": [
    "model = DecisionTreeClassifier()\n",
    "\n",
    "param_grid = {'criterion' : [\"gini\", \"entropy\"],\n",
    "             'min_samples_split' : [2, 5, 10],\n",
    "             'min_samples_leaf' : [1, 2, 5, 10],\n",
    "             'max_depth' : [None, 5, 10]}\n",
    "grid = GridSearchCV(model, param_grid, cv=5)\n",
    "grid.fit(x_train, y_train)\n",
    "\n",
    "print(grid.best_params_)\n",
    "print(\"Training score:\",grid.best_score_)\n",
    "\n",
    "y_pred = grid.predict(x_test)\n",
    "val_accuracy = accuracy_score(y_test, y_pred)\n",
    "print(\"Validation accuracy for Logisitc Regression model:\", val_accuracy)\n",
    "\n",
    "model_scores.append({\n",
    "    'model': 'DecisionTree',\n",
    "    'Training Accuracy ': grid.best_score_,\n",
    "    'Validation Accuracy': val_accuracy\n",
    "})"
   ]
  },
  {
   "cell_type": "code",
   "execution_count": 29,
   "id": "600a36b6-ceda-4d1d-86d7-dc9b6b4fff5a",
   "metadata": {},
   "outputs": [
    {
     "name": "stdout",
     "output_type": "stream",
     "text": [
      "              precision    recall  f1-score   support\n",
      "\n",
      "           0       0.80      0.86      0.83       154\n",
      "           1       0.79      0.71      0.75       114\n",
      "\n",
      "    accuracy                           0.79       268\n",
      "   macro avg       0.79      0.78      0.79       268\n",
      "weighted avg       0.79      0.79      0.79       268\n",
      "\n",
      "[[132  22]\n",
      " [ 33  81]]\n"
     ]
    }
   ],
   "source": [
    "print(classification_report(y_test, y_pred))\n",
    "print(confusion_matrix(y_test, y_pred))"
   ]
  },
  {
   "cell_type": "markdown",
   "id": "90750b73-013b-4059-8e90-9afdcb0bc0fb",
   "metadata": {},
   "source": [
    "### Model 3: Random Forest\n",
    "\n",
    "An ensemble method that builds multiple decision trees on bootstrapped subsets of the data and averages their predictions.\n",
    "\n",
    "- **Why**:  \n",
    "  - Reduces overfitting compared to a single decision tree  \n",
    "  - Captures complex feature interactions  \n",
    "  - Robust to outliers and noise  \n",
    "\n",
    "- **Hyperparameters**:  \n",
    "  - `n_estimators`: number of trees in the forest  \n",
    "  - `max_depth`: maximum depth of each tree\n",
    "\n",
    "- **Validation**:  \n",
    "  Use `GridSearchCV` with 5‑fold CV to tune these hyperparameters."
   ]
  },
  {
   "cell_type": "code",
   "execution_count": 30,
   "id": "4941531c-645f-4a34-823b-6af7094a325f",
   "metadata": {},
   "outputs": [
    {
     "name": "stdout",
     "output_type": "stream",
     "text": [
      "{'max_depth': 5, 'n_estimators': 50}\n",
      "Training score: 0.8218967741935485\n",
      "Validation accuracy for Logisitc Regression model: 0.8022388059701493\n"
     ]
    }
   ],
   "source": [
    "model = RandomForestClassifier()\n",
    "\n",
    "param_grid = {'n_estimators' : [1, 5, 10, 50],\n",
    "              'max_depth': [None, 5, 10]}\n",
    "grid = GridSearchCV(model, param_grid, cv=5)\n",
    "grid.fit(x_train, y_train)\n",
    "\n",
    "print(grid.best_params_)\n",
    "print(\"Training score:\",grid.best_score_)\n",
    "\n",
    "y_pred = grid.predict(x_test)\n",
    "val_accuracy = accuracy_score(y_test, y_pred)\n",
    "print(\"Validation accuracy for Logisitc Regression model:\", val_accuracy)\n",
    "\n",
    "model_scores.append({\n",
    "    'model': 'RandomForest',\n",
    "    'Training Accuracy ': grid.best_score_,\n",
    "    'Validation Accuracy': val_accuracy\n",
    "})"
   ]
  },
  {
   "cell_type": "code",
   "execution_count": 31,
   "id": "02c2b2fc-47dc-4e2a-8b5b-cc77eb51b679",
   "metadata": {},
   "outputs": [
    {
     "name": "stdout",
     "output_type": "stream",
     "text": [
      "              precision    recall  f1-score   support\n",
      "\n",
      "           0       0.76      0.95      0.85       154\n",
      "           1       0.90      0.61      0.72       114\n",
      "\n",
      "    accuracy                           0.80       268\n",
      "   macro avg       0.83      0.78      0.78       268\n",
      "weighted avg       0.82      0.80      0.79       268\n",
      "\n",
      "[[146   8]\n",
      " [ 45  69]]\n"
     ]
    }
   ],
   "source": [
    "print(classification_report(y_test, y_pred))\n",
    "print(confusion_matrix(y_test, y_pred))"
   ]
  },
  {
   "cell_type": "markdown",
   "id": "2f4715f7-e18e-471d-87ce-cd1c414cf730",
   "metadata": {},
   "source": [
    "### Model 4: K-Nearest Neighbors (KNN)\n",
    "\n",
    "A non‑parametric, instance‑based learning algorithm that classifies a sample based on the majority vote of its k nearest neighbors in feature space.\n",
    "\n",
    "- **Why**:  \n",
    "  - Simple and intuitive  \n",
    "  - Naturally captures local structure in the data  \n",
    "  - No explicit training phase (lazy learner)\n",
    "\n",
    "- **Hyperparameters**:  \n",
    "  - `n_neighbors`: number of neighbors to use for voting  \n",
    "\n",
    "- **Validation**:  \n",
    "  Use `GridSearchCV` with 5‑fold CV to find the best combination of these parameters."
   ]
  },
  {
   "cell_type": "code",
   "execution_count": 32,
   "id": "a49ad8ac-4f29-4665-9137-d69f636891ee",
   "metadata": {},
   "outputs": [
    {
     "name": "stdout",
     "output_type": "stream",
     "text": [
      "{'n_neighbors': 10}\n",
      "Training score: 0.8154580645161291\n",
      "Validation accuracy for Logisitc Regression model: 0.7835820895522388\n"
     ]
    }
   ],
   "source": [
    "model = KNeighborsClassifier()\n",
    "\n",
    "param_grid = {'n_neighbors' : [1, 5, 10, 25, 50]}\n",
    "grid = GridSearchCV(model, param_grid, cv=5)\n",
    "grid.fit(x_train, y_train)\n",
    "\n",
    "print(grid.best_params_)\n",
    "print(\"Training score:\",grid.best_score_)\n",
    "\n",
    "y_pred = grid.predict(x_test)\n",
    "val_accuracy = accuracy_score(y_test, y_pred)\n",
    "print(\"Validation accuracy for Logisitc Regression model:\", val_accuracy)\n",
    "\n",
    "model_scores.append({\n",
    "    'model': 'KNeighbors',\n",
    "    'Training Accuracy ': grid.best_score_,\n",
    "    'Validation Accuracy': val_accuracy\n",
    "})"
   ]
  },
  {
   "cell_type": "code",
   "execution_count": 33,
   "id": "8a35c8af-1f17-4573-95dd-8152ef30c197",
   "metadata": {},
   "outputs": [
    {
     "name": "stdout",
     "output_type": "stream",
     "text": [
      "              precision    recall  f1-score   support\n",
      "\n",
      "           0       0.74      0.95      0.83       154\n",
      "           1       0.89      0.56      0.69       114\n",
      "\n",
      "    accuracy                           0.78       268\n",
      "   macro avg       0.82      0.75      0.76       268\n",
      "weighted avg       0.81      0.78      0.77       268\n",
      "\n",
      "[[146   8]\n",
      " [ 50  64]]\n"
     ]
    }
   ],
   "source": [
    "print(classification_report(y_test, y_pred))\n",
    "print(confusion_matrix(y_test, y_pred))"
   ]
  },
  {
   "cell_type": "markdown",
   "id": "9c005543-2e36-44b1-b76a-a889b742a05a",
   "metadata": {},
   "source": [
    "## Model Comparison\n",
    "\n",
    "After training and evaluating all models using cross-validation, we compare their performance based on training and validation accuracy.\n",
    "\n",
    "The table below summarizes the results:\n",
    "\n",
    "| Model               | Training Accuracy | Validation Accuracy |\n",
    "|--------------------|-------------------|---------------------|\n",
    "| Random Forest       | 0.8219            | 0.8022              |\n",
    "| Logistic Regression | 0.8107            | 0.7948              |\n",
    "| Decision Tree       | 0.8123            | 0.7948              |\n",
    "| K-Nearest Neighbors | 0.8155            | 0.7836              |\n",
    "\n",
    "- **Random Forest** achieved the highest validation accuracy (≈80.2%) and shows a good balance between bias and variance.  \n",
    "- **Logistic Regression** and **Decision Tree** performed similarly and only slightly below Random Forest.  \n",
    "- **KNN** had the lowest validation accuracy, likely due to its sensitivity to feature scaling and local noise.\n",
    "\n",
    "> ✅ Based on these results, **Random Forest** can be selected as the final model for prediction on the test set.\n"
   ]
  },
  {
   "cell_type": "code",
   "execution_count": 34,
   "id": "cabe5436-b483-4944-9ff3-00453e539078",
   "metadata": {},
   "outputs": [
    {
     "data": {
      "text/html": [
       "<div>\n",
       "<style scoped>\n",
       "    .dataframe tbody tr th:only-of-type {\n",
       "        vertical-align: middle;\n",
       "    }\n",
       "\n",
       "    .dataframe tbody tr th {\n",
       "        vertical-align: top;\n",
       "    }\n",
       "\n",
       "    .dataframe thead th {\n",
       "        text-align: right;\n",
       "    }\n",
       "</style>\n",
       "<table border=\"1\" class=\"dataframe\">\n",
       "  <thead>\n",
       "    <tr style=\"text-align: right;\">\n",
       "      <th></th>\n",
       "      <th>model</th>\n",
       "      <th>Training Accuracy</th>\n",
       "      <th>Validation Accuracy</th>\n",
       "    </tr>\n",
       "  </thead>\n",
       "  <tbody>\n",
       "    <tr>\n",
       "      <th>2</th>\n",
       "      <td>RandomForest</td>\n",
       "      <td>0.821897</td>\n",
       "      <td>0.802239</td>\n",
       "    </tr>\n",
       "    <tr>\n",
       "      <th>0</th>\n",
       "      <td>Logistic Regression</td>\n",
       "      <td>0.810658</td>\n",
       "      <td>0.794776</td>\n",
       "    </tr>\n",
       "    <tr>\n",
       "      <th>1</th>\n",
       "      <td>DecisionTree</td>\n",
       "      <td>0.812258</td>\n",
       "      <td>0.794776</td>\n",
       "    </tr>\n",
       "    <tr>\n",
       "      <th>3</th>\n",
       "      <td>KNeighbors</td>\n",
       "      <td>0.815458</td>\n",
       "      <td>0.783582</td>\n",
       "    </tr>\n",
       "  </tbody>\n",
       "</table>\n",
       "</div>"
      ],
      "text/plain": [
       "                 model  Training Accuracy   Validation Accuracy\n",
       "2         RandomForest            0.821897             0.802239\n",
       "0  Logistic Regression            0.810658             0.794776\n",
       "1         DecisionTree            0.812258             0.794776\n",
       "3           KNeighbors            0.815458             0.783582"
      ]
     },
     "execution_count": 34,
     "metadata": {},
     "output_type": "execute_result"
    }
   ],
   "source": [
    "result=pd.DataFrame(model_scores)\n",
    "result.sort_values(by='Validation Accuracy', ascending=False, inplace=True)\n",
    "(result)"
   ]
  },
  {
   "cell_type": "code",
   "execution_count": null,
   "id": "08e7e7ea-d36c-4e5a-954d-f4cce1433824",
   "metadata": {},
   "outputs": [],
   "source": []
  }
 ],
 "metadata": {
  "kernelspec": {
   "display_name": "Python 3 (ipykernel)",
   "language": "python",
   "name": "python3"
  },
  "language_info": {
   "codemirror_mode": {
    "name": "ipython",
    "version": 3
   },
   "file_extension": ".py",
   "mimetype": "text/x-python",
   "name": "python",
   "nbconvert_exporter": "python",
   "pygments_lexer": "ipython3",
   "version": "3.13.5"
  }
 },
 "nbformat": 4,
 "nbformat_minor": 5
}
